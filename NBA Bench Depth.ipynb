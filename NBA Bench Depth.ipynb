{
 "cells": [
  {
   "cell_type": "code",
   "execution_count": null,
   "metadata": {},
   "outputs": [],
   "source": [
    "from sportsreference.nba.roster import Roster\n",
    "from sportsreference.nba.roster import Player\n",
    "from sportsreference.nba.teams import Teams\n",
    "import numpy as np\n",
    "from sklearn.model_selection import train_test_split\n",
    "from sklearn.linear_model import LinearRegression\n",
    "from sklearn.neighbors import KNeighborsClassifier\n",
    "import pandas as pd\n",
    "from matplotlib import pyplot as plt\n",
    "\n",
    "def benchdepth(x, y, z):\n",
    "    team = Roster(x, year=y, slim = True)\n",
    "    teamdict = team.players\n",
    "    player_list = []\n",
    "    bench = []\n",
    "    for a in teamdict:\n",
    "        player_list.append(a)\n",
    "    for i in range(len(player_list)):\n",
    "        player = Player(player_list[i])\n",
    "        games = player(z).games_played\n",
    "        minutes = player(z).minutes_played\n",
    "        per = player(z).player_efficiency_rating\n",
    "        starts = player(z).games_started\n",
    "        if(minutes/games > 10 and starts/games < 0.75 and games > 30):\n",
    "            bench.append(per)\n",
    "    dev_initial = 0\n",
    "    for m in range(len(bench)):\n",
    "        dev = bench[m] - 15\n",
    "        dev_initial += dev\n",
    "    deviation = dev_initial / len(bench)\n",
    "    return deviation\n",
    "\n",
    "#This function returns standard deviation of PER (player efficiency rating) for all qualified bench players of a given team.\n",
    "#The functions takes the input of team abbreviation, season year, and official season year span.\n",
    "\n",
    "def compareteams(t1, t2, y1, y2, ys1, ys2):\n",
    "    team1 = benchdepth(t1, y1, ys1)\n",
    "    team2 = benchdepth(t2, y2, ys2)\n",
    "    diff = team1 - team2\n",
    "    return diff\n",
    "\n",
    "def seasonbenchdepth(a, b):\n",
    "    teamlist = []\n",
    "    teams = Teams()\n",
    "    for team in teams:\n",
    "        teamlist.append(team.abbreviation)\n",
    "    sumseason = 0\n",
    "    for i in range(len(teamlist)):\n",
    "        sumseason += benchdepth(teamlist[i], a, b)\n",
    "    seasonavg = sumseason/len(teamlist)\n",
    "    return seasonavg\n",
    "\n",
    "def comparetoleague(m, n, p):\n",
    "    avg = seasonbenchdepth(n, p)\n",
    "    team = benchdepth(m, n, p)\n",
    "    diff = team - avg\n",
    "    return diff\n",
    "\n",
    "\n",
    "#playoff scoring metric: every round won is 1 point so that the title winning team gets 4 points for 4 rounds won. There\n",
    "# is a bonus of 1 point for making it to the conference finals and a bonus of 2 for making it to the nba finals. Thus a team\n",
    "#wins the championship gets a score of 7\n",
    "\n",
    "\n"
   ]
  },
  {
   "cell_type": "code",
   "execution_count": 24,
   "metadata": {},
   "outputs": [
    {
     "name": "stdout",
     "output_type": "stream",
     "text": [
      "-0.3215736676660199\n"
     ]
    }
   ],
   "source": [
    "import pandas as pd\n",
    "df = pd.DataFrame()\n",
    "\n",
    "\n",
    "df['Teams'] = ['POR', 'DAL', 'UTA', 'OKC', 'HOU', 'DEN', 'LAC', 'LAL', 'ORL', 'BRK', 'PHI', 'MIA', 'IND', 'BOS', 'TOR', 'MIL']\n",
    "\n",
    "df['Playoff Score'] = [0, 0, 0, 0, 1, 3, 1, 7, 0, 0, 0, 6, 0, 4, 1, 1]\n",
    "df['Depth Score'] = [-2.5500000000000003, -1.2538461538461543, -1.688888888888889, -3.3142857142857145, -3.5181818181818176, -0.9600000000000003, -1.3250000000000002, -1.8999999999999992, -2.190909090909091, -2.835294117647059, -2.2363636363636363, -1.446153846153846, -1.55, -1.75, -0.7800000000000005, -2.5799999999999996]\n",
    "\n",
    "\n",
    "\n",
    "\n",
    "\n",
    "features = df[['Depth Score']]\n",
    "outcome = df[['Playoff Score']]\n",
    "features_train, features_test, outcome_train, outcome_test = train_test_split(features, outcome, train_size=0.75)\n",
    "model = LinearRegression()\n",
    "model.fit(features_train, outcome_train)\n",
    "print(model.score(features_test, outcome_test))\n",
    "\n",
    "\n",
    "# correlation between depth and playoff performance is nonexistent"
   ]
  },
  {
   "cell_type": "code",
   "execution_count": 20,
   "metadata": {},
   "outputs": [
    {
     "name": "stdout",
     "output_type": "stream",
     "text": [
      "-2.5500000000000003\n",
      "-1.2538461538461543\n",
      "-1.688888888888889\n",
      "-3.3142857142857145\n",
      "-3.5181818181818176\n",
      "-0.9600000000000003\n",
      "-1.3250000000000002\n",
      "-1.8999999999999992\n",
      "-2.190909090909091\n",
      "-2.835294117647059\n",
      "-2.2363636363636363\n",
      "-1.446153846153846\n",
      "-1.55\n",
      "-1.75\n",
      "-0.7800000000000005\n",
      "-2.5799999999999996\n"
     ]
    }
   ],
   "source": [
    "t = ['POR', 'DAL', 'UTA', 'OKC', 'HOU', 'DEN', 'LAC', 'LAL', 'ORL', 'BRK', 'PHI', 'MIA', 'IND', 'BOS', 'TOR', 'MIL']\n",
    "for i in t:\n",
    "    print(benchdepth(i, 2020, '2019-2020'))"
   ]
  },
  {
   "cell_type": "code",
   "execution_count": 92,
   "metadata": {},
   "outputs": [
    {
     "data": {
      "image/png": "[encoded data removed]",
      "text/plain": [
       "<Figure size 720x720 with 1 Axes>"
      ]
     },
     "metadata": {
      "needs_background": "light"
     },
     "output_type": "display_data"
    },
    {
     "data": {
      "image/png": "[encoded data removed]",
      "text/plain": [
       "<Figure size 720x720 with 1 Axes>"
      ]
     },
     "metadata": {
      "needs_background": "light"
     },
     "output_type": "display_data"
    }
   ],
   "source": [
    "import matplotlib.pyplot as plt\n",
    "\n",
    "fig = plt.figure(figsize=(10, 10))\n",
    "plt.bar(teams2019, depth)\n",
    "plt.title('Standard Deviation from League Average PER: 2019 Playoff Teams')\n",
    "plt.show()\n",
    "\n",
    "fig2 = plt.figure(figsize=(10, 10))\n",
    "plt.scatter(depth, score)\n",
    "plt.show()"
   ]
  },
  {
   "cell_type": "code",
   "execution_count": null,
   "metadata": {},
   "outputs": [],
   "source": []
  },
  {
   "cell_type": "code",
   "execution_count": null,
   "metadata": {},
   "outputs": [],
   "source": [
    "##     Determining the statistics that correlate strongly to actual performance\n",
    "from sportsreference.nba.roster import Roster\n",
    "from sportsreference.nba.roster import Player\n",
    "from sportsreference.nba.teams import Teams\n",
    "\n",
    "\n",
    "\n",
    "def per(x, y, z):\n",
    "    team = Roster(x, year=y, slim = True)\n",
    "    teamdict = team.players\n",
    "    player_list = []\n",
    "    bench = []\n",
    "    for a in teamdict:\n",
    "        player_list.append(a)\n",
    "    for i in range(len(player_list)):\n",
    "        player = Player(player_list[i])\n",
    "        games = player(z).games_played\n",
    "        minutes = player(z).minutes_played\n",
    "        per = player(z).player_efficiency_rating\n",
    "        starts = player(z).games_started\n",
    "        if(minutes/games > 10 and starts/games < 0.75 and games > 30):\n",
    "            bench.append(per)\n",
    "    dev_initial = 0\n",
    "    for m in range(len(bench)):\n",
    "        dev = bench[m] - 15\n",
    "        dev_initial += dev\n",
    "    deviation = dev_initial / len(bench)\n",
    "    return deviation\n"
   ]
  },
  {
   "cell_type": "code",
   "execution_count": null,
   "metadata": {},
   "outputs": [],
   "source": [
    "# Number of teams that gave more than 8 players significant playing time in th playoffs over the past 10 years\n",
    "# Hand tracked data\n",
    "# Significant playing time = at least 15 minutes per game\n",
    "playoffs_2020 = 0.25\n",
    "playoffs_2019 = 0.25\n",
    "playoffs_2018 = 0.25\n",
    "playoffs_2017\n",
    "playoffs_2016\n",
    "playoffs_2015\n",
    "playoffS_2014\n",
    "playoffs_2013\n",
    "playoffs_2012\n",
    "playoffs_2011"
   ]
  }
 ],
 "metadata": {
  "kernelspec": {
   "display_name": "Python 3",
   "language": "python",
   "name": "python3"
  },
  "language_info": {
   "codemirror_mode": {
    "name": "ipython",
    "version": 3
   },
   "file_extension": ".py",
   "mimetype": "text/x-python",
   "name": "python",
   "nbconvert_exporter": "python",
   "pygments_lexer": "ipython3",
   "version": "3.7.6"
  }
 },
 "nbformat": 4,
 "nbformat_minor": 4
}
