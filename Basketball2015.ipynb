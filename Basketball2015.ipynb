{
 "cells": [
  {
   "cell_type": "code",
   "execution_count": 1,
   "metadata": {},
   "outputs": [
    {
     "name": "stdout",
     "output_type": "stream",
     "text": [
      "    GAME_ID                   MATCHUP LOCATION  W  FINAL_MARGIN  SHOT_NUMBER  \\\n",
      "0  21400899  MAR 04, 2015 - CHA @ BKN        A  W            24            1   \n",
      "1  21400899  MAR 04, 2015 - CHA @ BKN        A  W            24            2   \n",
      "2  21400899  MAR 04, 2015 - CHA @ BKN        A  W            24            3   \n",
      "3  21400899  MAR 04, 2015 - CHA @ BKN        A  W            24            4   \n",
      "4  21400899  MAR 04, 2015 - CHA @ BKN        A  W            24            5   \n",
      "\n",
      "   PERIOD GAME_CLOCK  SHOT_CLOCK  DRIBBLES  ...  SHOT_DIST  PTS_TYPE  \\\n",
      "0       1       1:09        10.8         2  ...        7.7         2   \n",
      "1       1       0:14         3.4         0  ...       28.2         3   \n",
      "2       1       0:00         NaN         3  ...       10.1         2   \n",
      "3       2      11:47        10.3         2  ...       17.2         2   \n",
      "4       2      10:34        10.9         2  ...        3.7         2   \n",
      "\n",
      "   SHOT_RESULT   CLOSEST_DEFENDER CLOSEST_DEFENDER_PLAYER_ID  CLOSE_DEF_DIST  \\\n",
      "0         made     Anderson, Alan                     101187             1.3   \n",
      "1       missed  Bogdanovic, Bojan                     202711             6.1   \n",
      "2       missed  Bogdanovic, Bojan                     202711             0.9   \n",
      "3       missed      Brown, Markel                     203900             3.4   \n",
      "4       missed    Young, Thaddeus                     201152             1.1   \n",
      "\n",
      "   FGM  PTS    player_name player_id  \n",
      "0    1    2  brian roberts    203148  \n",
      "1    0    0  brian roberts    203148  \n",
      "2    0    0  brian roberts    203148  \n",
      "3    0    0  brian roberts    203148  \n",
      "4    0    0  brian roberts    203148  \n",
      "\n",
      "[5 rows x 21 columns]\n"
     ]
    }
   ],
   "source": [
    "import pandas as pd\n",
    "import numpy as np\n",
    "from matplotlib import pyplot as plt\n",
    "from sklearn.linear_model import LinearRegression\n",
    "\n",
    "stats = pd.read_csv(r\"C:\\Users\\monik\\Downloads\\98_221_bundle_archive\\shot_logs.csv\")\n",
    "print(stats.head())\n",
    "\n",
    "closest_defender = stats['CLOSE_DEF_DIST']\n",
    "dribbles = stats['DRIBBLES']\n",
    "shot_distance = stats['SHOT_DIST']\n",
    "points = stats['PTS']\n"
   ]
  },
  {
   "cell_type": "code",
   "execution_count": 1,
   "metadata": {},
   "outputs": [
    {
     "data": {
      "image/png": "[encoded data removed]",
      "text/plain": [
       "<Figure size 432x288 with 1 Axes>"
      ]
     },
     "metadata": {
      "needs_background": "light"
     },
     "output_type": "display_data"
    }
   ],
   "source": [
    "import pandas as pd\n",
    "import numpy as np\n",
    "from matplotlib import pyplot as plt\n",
    "from sklearn.neighbors import KNeighborsClassifier\n",
    "from sklearn.model_selection import train_test_split\n",
    "\n",
    "stats = pd.read_csv(r\"C:\\Users\\monik\\Downloads\\98_221_bundle_archive\\shot_logs.csv\")\n",
    "        \n",
    "        \n",
    "data = stats[['DRIBBLES', 'SHOT_DIST', 'PTS_TYPE', 'CLOSE_DEF_DIST']]\n",
    "\n",
    "training_data, validation_data, training_labels, validation_labels = train_test_split(data, stats.FGM, test_size=0.2, random_state=100)\n",
    "\n",
    "\n",
    "accuracy = []\n",
    "for k in range(1, 101):\n",
    "    classifier = KNeighborsClassifier(n_neighbors=k)\n",
    "    classifier.fit(training_data, training_labels)\n",
    "    accuracy.append(classifier.score(validation_data, validation_labels))\n",
    "\n",
    "k_list = range(1, 101)\n",
    "plt.plot(k_list, accuracy)\n",
    "plt.show()"
   ]
  },
  {
   "cell_type": "code",
   "execution_count": 7,
   "metadata": {},
   "outputs": [
    {
     "name": "stdout",
     "output_type": "stream",
     "text": [
      "[0 0 0]\n"
     ]
    }
   ],
   "source": [
    "import pandas as pd\n",
    "import numpy as np\n",
    "from matplotlib import pyplot as plt\n",
    "from sklearn.neighbors import KNeighborsClassifier\n",
    "from sklearn.model_selection import train_test_split\n",
    "\n",
    "stats = pd.read_csv(r\"C:\\Users\\monik\\Downloads\\98_221_bundle_archive\\shot_logs.csv\")\n",
    "        \n",
    "        \n",
    "data = stats[['DRIBBLES', 'SHOT_DIST', 'PTS_TYPE', 'CLOSE_DEF_DIST']]\n",
    "\n",
    "training_data, validation_data, training_labels, validation_labels = train_test_split(data, stats.FGM, test_size=0.2, random_state=100)\n",
    "\n",
    "new_shots = [\n",
    "    [3, 16.7, 2, 2.3], [0, 30.9, 3, 5.7], [7, 5.8, 2, 1.0]\n",
    "]\n",
    "\n",
    "classifier = KNeighborsClassifier(n_neighbors = 100)\n",
    "classifier.fit(training_data, training_labels)\n",
    "prediction = classifier.predict(new_shots)\n",
    "print(prediction)"
   ]
  }
 ],
 "metadata": {
  "kernelspec": {
   "display_name": "Python 3",
   "language": "python",
   "name": "python3"
  },
  "language_info": {
   "codemirror_mode": {
    "name": "ipython",
    "version": 3
   },
   "file_extension": ".py",
   "mimetype": "text/x-python",
   "name": "python",
   "nbconvert_exporter": "python",
   "pygments_lexer": "ipython3",
   "version": "3.7.6"
  }
 },
 "nbformat": 4,
 "nbformat_minor": 4
}
