{
 "cells": [
  {
   "cell_type": "code",
   "execution_count": 43,
   "metadata": {},
   "outputs": [],
   "source": [
    "from urllib.request import urlopen\n",
    "from bs4 import BeautifulSoup\n",
    "import pandas as pd\n",
    "import os"
   ]
  },
  {
   "cell_type": "code",
   "execution_count": 44,
   "metadata": {},
   "outputs": [],
   "source": [
    "def get_rpm(years):\n",
    "    for i in years:\n",
    "        save = \"C:/Users/monik/Blog Projects/NBA RAPM Loader/RPM csvs/\" + str(i)\n",
    "        os.mkdir(save)\n",
    "        for j in range(14):\n",
    "            if(j == 0):\n",
    "                url = \"http://www.espn.com/nba/statistics/rpm/_/year/{}\".format(i)\n",
    "                html = urlopen(url)\n",
    "                soup = BeautifulSoup(html)\n",
    "                soup.findAll('tr', limit=2)\n",
    "                headers = [td.getText() for td in soup.findAll('tr', limit=2)[0].findAll('td')]\n",
    "                rows = soup.findAll('tr')[1:]\n",
    "                player_stats = [[td.getText() for td in rows[i].findAll('td')]\n",
    "                    for i in range(len(rows))]\n",
    "\n",
    "                df = pd.DataFrame(player_stats, columns = headers)\n",
    "                df.set_index(\"RK\")\n",
    "                df.to_csv(save + \"/\" + str(i) + \"_\" + str(j+1))\n",
    "            else:\n",
    "                url = \"http://www.espn.com/nba/statistics/rpm/_/year/{}/page/{}\".format(i, j+1)\n",
    "                html = urlopen(url)\n",
    "                soup = BeautifulSoup(html)\n",
    "                soup.findAll('tr', limit=2)\n",
    "                headers = [td.getText() for td in soup.findAll('tr', limit=2)[0].findAll('td')]\n",
    "                rows = soup.findAll('tr')[1:]\n",
    "                player_stats = [[td.getText() for td in rows[i].findAll('td')]\n",
    "                    for i in range(len(rows))]\n",
    "\n",
    "                df = pd.DataFrame(player_stats, columns = headers)\n",
    "                df.set_index(\"RK\")\n",
    "                df.to_csv(save + \"/\" + str(i) + \"_\" + str(j+1))\n",
    "        \n",
    "        "
   ]
  },
  {
   "cell_type": "code",
   "execution_count": 45,
   "metadata": {},
   "outputs": [],
   "source": [
    "get_rpm([2019])"
   ]
  },
  {
   "cell_type": "code",
   "execution_count": 37,
   "metadata": {},
   "outputs": [
    {
     "name": "stdout",
     "output_type": "stream",
     "text": [
      "http://www.espn.com/nba/statistics/rpm/_/year/2019/page/2\n"
     ]
    }
   ],
   "source": [
    "url1 = \"http://www.espn.com/nba/statistics/rpm/_/year/{}/page/{}\".format(2019, 2)\n",
    "print(url1)"
   ]
  }
 ],
 "metadata": {
  "kernelspec": {
   "display_name": "Python 3",
   "language": "python",
   "name": "python3"
  },
  "language_info": {
   "codemirror_mode": {
    "name": "ipython",
    "version": 3
   },
   "file_extension": ".py",
   "mimetype": "text/x-python",
   "name": "python",
   "nbconvert_exporter": "python",
   "pygments_lexer": "ipython3",
   "version": "3.7.6"
  }
 },
 "nbformat": 4,
 "nbformat_minor": 4
}
