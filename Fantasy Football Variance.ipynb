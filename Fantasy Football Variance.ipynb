{
 "cells": [
  {
   "cell_type": "code",
   "execution_count": 9,
   "metadata": {},
   "outputs": [],
   "source": [
    "import matplotlib.pyplot as plt\n",
    "import numpy as np\n",
    "import pandas as pd"
   ]
  },
  {
   "cell_type": "code",
   "execution_count": 8,
   "metadata": {},
   "outputs": [
    {
     "ename": "SyntaxError",
     "evalue": "invalid syntax (<ipython-input-8-7e9b9186c96d>, line 4)",
     "output_type": "error",
     "traceback": [
      "\u001b[1;36m  File \u001b[1;32m\"<ipython-input-8-7e9b9186c96d>\"\u001b[1;36m, line \u001b[1;32m4\u001b[0m\n\u001b[1;33m    if(list1[n] != \"BYE\" and list1[n] != \"DNP\" and list1[n] != \"\" and pd.isna(list1[n]) = False):\u001b[0m\n\u001b[1;37m                                                                                        ^\u001b[0m\n\u001b[1;31mSyntaxError\u001b[0m\u001b[1;31m:\u001b[0m invalid syntax\n"
     ]
    }
   ],
   "source": [
    "def pos_variability_percentage(list1, avg):\n",
    "    list2 = []\n",
    "    for n in range(len(list1)):\n",
    "        if(list1[n] != \"BYE\" and list1[n] != \"DNP\" and list1[n] != \"\" and pd.isna(list1[n]) = False):\n",
    "            list2.append(int(list1[n]))\n",
    "    std = np.std(list2)\n",
    "    count = 0\n",
    "    num_over = 0\n",
    "    for i in range(len(list2)):\n",
    "        if(int(list2[i]) > (avg + std)):\n",
    "            num_over += 1\n",
    "            count += 1\n",
    "        else:\n",
    "            count += 1\n",
    "    \n",
    "    if(count == 0):\n",
    "        ret = \"None\"\n",
    "    else:\n",
    "        ret = (num_over/count) * 100\n",
    "    return ret\n",
    "\n",
    "def neg_variability_percentage(list1, avg):\n",
    "    list2 = []\n",
    "    for n in range(len(list1)):\n",
    "        if(list1[n] != \"BYE\" and list1[n] != \"DNP\" and list1[n] != \"\" and pd.isna(list1[n]) = False):\n",
    "            list2.append(int(list1[n]))\n",
    "    std = np.std(list2)\n",
    "    count = 0\n",
    "    num_under = 0\n",
    "    for i in range(len(list2)):\n",
    "        if(int(list2[i]) < (avg - std)):\n",
    "            num_under += 1\n",
    "            count += 1\n",
    "        else:\n",
    "            count += 1\n",
    "    \n",
    "    if(count == 0):\n",
    "        ret = \"None\"\n",
    "    else:\n",
    "        ret = (num_under/count) * 100\n",
    "    return ret  \n",
    "\n",
    "def variability_percentage(pos_, neg_):\n",
    "    if(neg_ != 0):\n",
    "        var = pos_/neg_\n",
    "    else:\n",
    "        var = pos_ * 1.5\n",
    "    return var\n",
    "\n",
    "def var_score(var_, tpg):\n",
    "    score = var_ * tpg\n",
    "    return score"
   ]
  }
 ],
 "metadata": {
  "kernelspec": {
   "display_name": "Python 3",
   "language": "python",
   "name": "python3"
  },
  "language_info": {
   "codemirror_mode": {
    "name": "ipython",
    "version": 3
   },
   "file_extension": ".py",
   "mimetype": "text/x-python",
   "name": "python",
   "nbconvert_exporter": "python",
   "pygments_lexer": "ipython3",
   "version": "3.7.6"
  }
 },
 "nbformat": 4,
 "nbformat_minor": 4
}
