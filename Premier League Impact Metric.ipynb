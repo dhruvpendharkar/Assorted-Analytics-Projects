{
 "cells": [
  {
   "cell_type": "markdown",
   "metadata": {},
   "source": [
    "Import data"
   ]
  },
  {
   "cell_type": "code",
   "execution_count": 44,
   "metadata": {},
   "outputs": [],
   "source": [
    "import pandas as pd\n",
    "import matplotlib.pyplot as plt\n",
    "\n",
    "\n",
    "man_city = pd.read_csv(r\"C:\\Users\\monik\\Downloads\\premier league project\\man_city.csv\")\n",
    "arsenal = pd.read_csv(r\"C:\\Users\\monik\\Downloads\\premier league project\\arsenal.csv\")\n",
    "brighton = pd.read_csv(r\"C:\\Users\\monik\\Downloads\\premier league project\\brighton.csv\")\n",
    "bromwich = pd.read_csv(r\"C:\\Users\\monik\\Downloads\\premier league project\\brom.csv\")\n",
    "burnley = pd.read_csv(r\"C:\\Users\\monik\\Downloads\\premier league project\\burnley.csv\")\n",
    "chelsea = pd.read_csv(r\"C:\\Users\\monik\\Downloads\\premier league project\\chelsea.csv\")\n",
    "crystal = pd.read_csv(r\"C:\\Users\\monik\\Downloads\\premier league project\\crystal_palace.csv\")\n",
    "everton = pd.read_csv(r\"C:\\Users\\monik\\Downloads\\premier league project\\everton.csv\")\n",
    "fulham = pd.read_csv(r\"C:\\Users\\monik\\Downloads\\premier league project\\fulham.csv\")\n",
    "leeds = pd.read_csv(r\"C:\\Users\\monik\\Downloads\\premier league project\\leeds.csv\")\n",
    "leicester = pd.read_csv(r\"C:\\Users\\monik\\Downloads\\premier league project\\leicester.csv\")\n",
    "liverpool = pd.read_csv(r\"C:\\Users\\monik\\Downloads\\premier league project\\liverpool.csv\")\n",
    "man_u = pd.read_csv(r\"C:\\Users\\monik\\Downloads\\premier league project\\man_u.csv\")\n",
    "newcastle = pd.read_csv(r\"C:\\Users\\monik\\Downloads\\premier league project\\newcastle.csv\")\n",
    "sheffield = pd.read_csv(r\"C:\\Users\\monik\\Downloads\\premier league project\\sheffield.csv\")\n",
    "southampton = pd.read_csv(r\"C:\\Users\\monik\\Downloads\\premier league project\\southampton.csv\")\n",
    "spurs = pd.read_csv(r\"C:\\Users\\monik\\Downloads\\premier league project\\spurs.csv\")\n",
    "villa = pd.read_csv(r\"C:\\Users\\monik\\Downloads\\premier league project\\villa.csv\")\n",
    "west_ham = pd.read_csv(r\"C:\\Users\\monik\\Downloads\\premier league project\\west_ham.csv\")\n",
    "wolves = pd.read_csv(r\"C:\\Users\\monik\\Downloads\\premier league project\\wolves.csv\")\n",
    "\n",
    "complete_goals = pd.concat([man_city, arsenal, brighton, bromwich, burnley, chelsea, crystal, everton, fulham, leeds, leicester, liverpool, man_u, newcastle, sheffield, southampton, spurs, villa, west_ham, wolves])"
   ]
  },
  {
   "cell_type": "code",
   "execution_count": 84,
   "metadata": {},
   "outputs": [
    {
     "name": "stdout",
     "output_type": "stream",
     "text": [
      "              Squad  MP   W   D   L  GF  GA  GD  Pts    xG   xGA   xGD  \\\n",
      "0   Manchester City  38  27   5   6  83  32  51   86  73.3  31.4  42.0   \n",
      "1    Manchester Utd  38  21  11   6  73  44  29   74  60.2  42.2  18.0   \n",
      "2         Liverpool  38  20   9   9  68  42  26   69  72.6  45.3  27.3   \n",
      "3           Chelsea  38  19  10   9  58  36  22   67  64.0  32.8  31.2   \n",
      "4    Leicester City  38  20   6  12  68  50  18   66  56.0  47.7   8.3   \n",
      "5          West Ham  38  19   8  11  62  47  15   65  53.9  48.3   5.6   \n",
      "6         Tottenham  38  18   8  12  68  45  23   62  54.5  49.5   5.0   \n",
      "7           Arsenal  38  18   7  13  55  39  16   61  53.5  44.3   9.2   \n",
      "8      Leeds United  38  18   5  15  62  54   8   59  57.5  62.9  -5.4   \n",
      "9           Everton  38  17   8  13  47  48  -1   59  47.2  52.0  -4.8   \n",
      "10      Aston Villa  38  16   7  15  55  46   9   55  52.9  52.9   0.1   \n",
      "11    Newcastle Utd  38  12   9  17  46  62 -16   45  41.0  54.0 -13.0   \n",
      "12           Wolves  38  12   9  17  36  52 -16   45  39.9  45.9  -6.0   \n",
      "13   Crystal Palace  38  12   8  18  41  66 -25   44  32.4  57.5 -25.0   \n",
      "14      Southampton  38  12   7  19  47  68 -21   43  42.4  54.2 -11.8   \n",
      "15         Brighton  38   9  14  15  40  46  -6   41  51.6  37.7  13.9   \n",
      "16          Burnley  38  10   9  19  33  55 -22   39  39.9  57.6 -17.7   \n",
      "17           Fulham  38   5  13  20  27  53 -26   28  41.3  53.0 -11.7   \n",
      "18        West Brom  38   5  11  22  35  76 -41   26  33.8  67.7 -34.0   \n",
      "19    Sheffield Utd  38   7   2  29  20  63 -43   23  31.4  62.4 -31.0   \n",
      "\n",
      "    xGD/90         Goalkeeper       gpg  \n",
      "0     1.10            Ederson  2.184211  \n",
      "1     0.47       David de Gea  1.921053  \n",
      "2     0.72            Alisson  1.789474  \n",
      "3     0.82      Edouard Mendy  1.526316  \n",
      "4     0.22  Kasper Schmeichel  1.789474  \n",
      "5     0.15   Łukasz Fabiański  1.631579  \n",
      "6     0.13        Hugo Lloris  1.789474  \n",
      "7     0.24         Bernd Leno  1.447368  \n",
      "8    -0.14      Illan Meslier  1.631579  \n",
      "9    -0.13    Jordan Pickford  1.236842  \n",
      "10    0.00  Emiliano Martínez  1.447368  \n",
      "11   -0.34        Karl Darlow  1.210526  \n",
      "12   -0.16       Rui Patrício  0.947368  \n",
      "13   -0.66     Vicente Guaita  1.078947  \n",
      "14   -0.31      Alex McCarthy  1.236842  \n",
      "15    0.37     Robert Sánchez  1.052632  \n",
      "16   -0.47          Nick Pope  0.868421  \n",
      "17   -0.31    Alphonse Areola  0.710526  \n",
      "18   -0.89      Sam Johnstone  0.921053  \n",
      "19   -0.82     Aaron Ramsdale  0.526316  \n"
     ]
    }
   ],
   "source": [
    "teams = pd.read_csv(r\"C:\\Users\\monik\\Downloads\\teams.csv\")\n",
    "\n",
    "list_f = []\n",
    "list_j = teams[\"GF\"]\n",
    "for p in list_j:\n",
    "    list_f.append(p/38)\n",
    "    \n",
    "teams[\"gpg\"] = list_f\n",
    "print(teams)"
   ]
  },
  {
   "cell_type": "markdown",
   "metadata": {},
   "source": [
    "Offensive WAR (basic not adjusted)\n",
    "\n",
    "Methodology:\n",
    "The WAR metric was popularized by sabremetrics in baseball but has been applied to other sports such as basketball. The basic formula is based on calculating the number of points added by a player and dividing it by the number of points per win. This will be applied in a basic offensive form in OWAR for the English Premier League. I will take the number of goals and assists and divide by \"goals per win\" which in this case will be calculated through regression analysis (below).\n",
    "\n",
    "Notes on \"goals per win\":\n",
    "\n",
    "In baseball's WAR, the \"runs per win\" component is effectively the average number of runs a team must score to add a single win to their total. To calculate this for soccer and specifically the premier league, I will use linear regression to build a model using the win totals for every team in the Premier League in 2020-2021 as the input and those respective teams' goals as the output for the training data. Based on this model I will calculate the required number of goals to achieve 1 win."
   ]
  },
  {
   "cell_type": "code",
   "execution_count": 85,
   "metadata": {
    "scrolled": true
   },
   "outputs": [],
   "source": [
    "from sklearn.linear_model import LinearRegression\n",
    "\n",
    "\n",
    "wins = teams[[\"W\"]]\n",
    "\n",
    "gpg = teams[[\"gpg\"]]\n",
    "\n",
    "gls = teams[[\"GF\"]]\n",
    "\n",
    "model = LinearRegression()\n",
    "model.fit(wins, gls)\n",
    "\n",
    "\n",
    "slope = model.coef_\n",
    "\n",
    "intercept = model.intercept_\n",
    "\n",
    "gpw = (slope * 1) + intercept\n",
    "\n",
    "## Here we have calculated goals per win which will be used for all following WAR metrics"
   ]
  },
  {
   "cell_type": "code",
   "execution_count": 69,
   "metadata": {},
   "outputs": [
    {
     "name": "stdout",
     "output_type": "stream",
     "text": [
      "0.5\n"
     ]
    }
   ],
   "source": [
    "## Pythagenpat Method for calculating runs per win applied to goals per win:\n",
    "import sympy as sym\n",
    "\n",
    "\n",
    "gf = 0\n",
    "for i in teams[\"GF\"]:\n",
    "    gf += i\n",
    "    \n",
    "ga = 0\n",
    "for r in teams[\"GA\"]:\n",
    "    ga += r\n",
    "    \n",
    "\n",
    "x, y = sym.symbols('x y')\n"
   ]
  },
  {
   "cell_type": "code",
   "execution_count": 86,
   "metadata": {},
   "outputs": [
    {
     "name": "stdout",
     "output_type": "stream",
     "text": [
      "[[14.03109006]]\n"
     ]
    }
   ],
   "source": [
    "print(gpw)"
   ]
  },
  {
   "cell_type": "markdown",
   "metadata": {},
   "source": [
    "OWAR (basic)"
   ]
  },
  {
   "cell_type": "code",
   "execution_count": 87,
   "metadata": {},
   "outputs": [],
   "source": [
    "\n",
    "\n",
    "def simple_OWAR_2020(player, gpw_):\n",
    "    list1 = complete_goals[\"Player\"]\n",
    "    search = 0\n",
    "    for i in range(len(list1)):\n",
    "        if(list1[i] == player):\n",
    "            search = i\n",
    "    \n",
    "    goals = complete_goals[\"Gls\"][search]\n",
    "    assists = complete_goals[\"Ast\"][search]\n",
    "    ga = goals + assists\n",
    "    ret = ga/gpw_\n",
    "    return ret\n",
    "\n",
    "def sOWAR(goals, assists, gpw_):\n",
    "    ga = goals + assists\n",
    "    ret = ga/gpw_\n",
    "    return ret"
   ]
  },
  {
   "cell_type": "code",
   "execution_count": 88,
   "metadata": {},
   "outputs": [
    {
     "data": {
      "text/plain": [
       "array([[2.63700111]])"
      ]
     },
     "execution_count": 88,
     "metadata": {},
     "output_type": "execute_result"
    }
   ],
   "source": [
    "## Harry Kane 2020-2021 season:\n",
    "\n",
    "sOWAR(23, 14, gpw)"
   ]
  },
  {
   "cell_type": "markdown",
   "metadata": {},
   "source": [
    "Advanced OWAR uses specific changes to the original OWAR formula to adjust for luck similar to the principles behind BBall Index's LEBRON metric. For example, the goals component is changed to adjust for shooting \"luck\" using the expected goals metric found on Sports Reference. \n",
    "The full formula(s):\n",
    "\n",
    "goals added = (expected goals - penalties) + penalties scored by player + ((penalties drawn - penalties taken) * league average penalty conversion rate) + (assisted shots * league scoring rate on shots)\n",
    "\n",
    "aOWAR = goals_added/goals per win"
   ]
  },
  {
   "cell_type": "code",
   "execution_count": null,
   "metadata": {},
   "outputs": [],
   "source": []
  }
 ],
 "metadata": {
  "kernelspec": {
   "display_name": "Python 3",
   "language": "python",
   "name": "python3"
  },
  "language_info": {
   "codemirror_mode": {
    "name": "ipython",
    "version": 3
   },
   "file_extension": ".py",
   "mimetype": "text/x-python",
   "name": "python",
   "nbconvert_exporter": "python",
   "pygments_lexer": "ipython3",
   "version": "3.7.6"
  }
 },
 "nbformat": 4,
 "nbformat_minor": 4
}
