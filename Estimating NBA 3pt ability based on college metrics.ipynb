{
 "cells": [
  {
   "cell_type": "code",
   "execution_count": null,
   "metadata": {},
   "outputs": [],
   "source": [
    "from sportsreference.nba.roster import Roster\n",
    "from sportsreference.nba.roster import Player\n",
    "from sportsreference.nba.teams import Teams\n",
    "import pandas as pd\n",
    "\n",
    "players2021 = pd.DataFrame(columns=[\"Name\", \"id\", \"3pt%\", \"3pt att\"])\n",
    "teams2021 = Teams(year='2021')\n",
    "\n",
    "for team in teams2021:\n",
    "    roster = Roster(team, year='2021')\n",
    "    for player in roster.players:\n",
    "        players2021[\"Name\"].append(player.player_name)\n",
    "        players2021[\"id\"].append(player.player_id)\n",
    "        players2021[\"3pt%\"].append(player.three_point_percentage)\n",
    "        players2021[\"3pt att\"].append(player.three_point_attempts)\n",
    "\n",
    "\n",
    "college_df = pd.DataFrame(columns=[\"Name\", \"id\", \"3p%\", \"3pt att\", \"FT%\"])\n"
   ]
  }
 ],
 "metadata": {
  "kernelspec": {
   "display_name": "Python 3",
   "language": "python",
   "name": "python3"
  },
  "language_info": {
   "codemirror_mode": {
    "name": "ipython",
    "version": 3
   },
   "file_extension": ".py",
   "mimetype": "text/x-python",
   "name": "python",
   "nbconvert_exporter": "python",
   "pygments_lexer": "ipython3",
   "version": "3.7.6"
  }
 },
 "nbformat": 4,
 "nbformat_minor": 4
}
